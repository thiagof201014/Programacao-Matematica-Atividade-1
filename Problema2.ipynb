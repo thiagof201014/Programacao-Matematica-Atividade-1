{
  "nbformat": 4,
  "nbformat_minor": 0,
  "metadata": {
    "colab": {
      "provenance": []
    },
    "kernelspec": {
      "name": "python3",
      "display_name": "Python 3"
    },
    "language_info": {
      "name": "python"
    }
  },
  "cells": [
    {
      "cell_type": "markdown",
      "source": [
        "#Programação Matemática - Atividade 2"
      ],
      "metadata": {
        "id": "rBJJZOnGUAcC"
      }
    },
    {
      "cell_type": "markdown",
      "source": [
        "# Modelo de Minimização de Custos para Produção de Camisetas\n",
        "\n",
        "## Variáveis de Decisão\n",
        "- \\( $P_t$ \\): quantidade de camisetas produzidas na semana \\( $t$ \\) (onde \\( $t$ = 1, 2, 3, 4 \\))\n",
        "- \\( $E_t$ \\): quantidade de camisetas produzidas com horas extras na semana \\( $t$ \\) (onde \\( $t$ = 1, 2 \\))\n",
        "- \\( $I_t$ \\): quantidade de camisetas em estoque no final da semana \\( t \\) (onde \\( $t$ = 1, 2, 3, 4 \\))\n",
        "\n",
        "## Parâmetros\n",
        "- Demanda semanal \\( $D_t$ \\):\n",
        "  - \\( $D_1$ = 5000 \\)\n",
        "  - \\( $D_2$ = 10000 \\)\n",
        "  - \\( $D_3$ = 30000 \\)\n",
        "  - \\( $D_4$ = 60000 \\)\n",
        "\n",
        "- Custos de produção:\n",
        "  - Semanas 1 e 2: R\\$ 2,00\n",
        "  - Semanas 3 e 4: R\\$ 2,50\n",
        "  - Custo com horas extras: R$ 2,80 (apenas nas semanas 1 e 2)\n",
        "\n",
        "- Custo de estocagem: R$ 0,20 por unidade por semana.\n",
        "\n",
        "- Capacidade de produção:\n",
        "  - Sem horas extras: 25.000 camisetas por semana.\n",
        "  - Com horas extras: 35.000 camisetas por semana (25.000 + 10.000).\n",
        "\n",
        "## Função Objetivo\n",
        "Minimizar o custo total:\n",
        "\\begin{equation}\n",
        "Z = \\sum_{t=1}^{4} C_t \\cdot P_t + \\sum_{t=1}^{2} (2.80 \\cdot E_t) + \\sum_{t=1}^{4} (0.20 \\cdot I_t)\n",
        "\\end{equation}\n",
        "\n",
        "onde:\n",
        "- \\( $C_t$ \\) é o custo de produção na semana \\( $t$ \\):\n",
        "  - \\( $C_1$ = 2.00 \\)\n",
        "  - \\( $C_2$ = 2.00 \\)\n",
        "  - \\( $C_3$ = 2.50 \\)\n",
        "  - \\( $C_4$ = 2.50 \\)\n",
        "\n",
        "## Restrições\n",
        "\n",
        "1. **Capacidade de produção**:\n",
        "   $P_t + E_t \\leq 35000 \\quad \\text{para } t = 1, 2\n",
        "   P_t \\leq 25000 \\quad \\text{para } t = 3, 4$\n",
        "\n",
        "2. **Demandas**:\n",
        "   $P_t + I_{t-1} - I_t = D_t \\quad \\text{para } t = 1, 2, 3, 4$\n",
        "   (com $I_0$ = 0 )\n",
        "\n",
        "3. **Estoque não negativo**:\n",
        "   $I_t \\geq 0 \\quad \\text{para } t = 1, 2, 3, 4$\n",
        "\n",
        "4. **Produção não negativa**:\n",
        "   $P_t \\geq 0 \\quad \\text{para } t = 1, 2, 3, 4$\n",
        "   $E_t \\geq 0 \\quad \\text{para } t = 1, 2$\n",
        "\n",
        "## Modelo Completo\n",
        "Minimizar $Z$:\n",
        "$Z = \\sum_{t=1}^{4} C_t \\cdot P_t + \\sum_{t=1}^{2} (2.80 \\cdot E_t) + \\sum_{t=1}^{4} (0.20 \\cdot I_t)$\n",
        "\n",
        "Sujeito a:\n",
        "\n",
        "$P_t + E_t \\leq 35000 \\quad \\text{para } t = 1, 2$\n",
        "\n",
        "$P_t \\leq 25000 \\quad \\text{para } t = 3, 4$\n",
        "\n",
        "$P_t + I_{t-1} - I_t = D_t \\quad \\text{para } t = 1, 2, 3, 4$\n",
        "\n",
        "$I_t \\geq 0 \\quad \\text{para } t = 1, 2, 3, 4$\n",
        "\n",
        "$P_t \\geq 0 \\quad \\text{para } t = 1, 2, 3, 4$\n",
        "\n",
        "$E_t \\geq 0 \\quad \\text{para } t = 1, 2$\n"
      ],
      "metadata": {
        "id": "_EkMW7x6j3dy"
      }
    },
    {
      "cell_type": "code",
      "execution_count": 44,
      "metadata": {
        "id": "FpCMi1ZITGBc",
        "colab": {
          "base_uri": "https://localhost:8080/"
        },
        "outputId": "292521b7-c802-431d-f229-2a2eedcfe2a3"
      },
      "outputs": [
        {
          "output_type": "stream",
          "name": "stdout",
          "text": [
            "Requirement already satisfied: pulp in /usr/local/lib/python3.10/dist-packages (2.9.0)\n"
          ]
        }
      ],
      "source": [
        "!pip install pulp\n",
        "import pulp"
      ]
    },
    {
      "cell_type": "code",
      "source": [
        "# Definição de parametros:\n",
        "periodos = [1, 2, 3, 4]\n",
        "demanda = {1: 5000, 2: 10000, 3: 30000, 4: 60000}\n",
        "custosProducao = {1: 2.00, 2: 2.00, 3: 2.50, 4: 2.50}\n",
        "capacidadeProducao = 25000\n",
        "capacidadeProducaoHorasExtras = 10000"
      ],
      "metadata": {
        "id": "JDIar5mPpoTu"
      },
      "execution_count": 45,
      "outputs": []
    },
    {
      "cell_type": "code",
      "source": [
        "modelo = pulp.LpProblem(\"ProducaoCamisetas\", pulp.LpMinimize)"
      ],
      "metadata": {
        "id": "L5H_FNPpqUEr"
      },
      "execution_count": 46,
      "outputs": []
    },
    {
      "cell_type": "code",
      "source": [
        "qtdProduzida = pulp.LpVariable.dicts(\"qtdProduzida\", periodos, lowBound=0, cat='Integer')\n",
        "qtdHorasExtras = pulp.LpVariable.dicts(\"qtdHorasExtras\", [1, 2], lowBound=0, cat='Integer')\n",
        "qtdEmEstoque = pulp.LpVariable.dicts(\"qtdEmEstoque\", periodos, lowBound=0, cat='Integer')"
      ],
      "metadata": {
        "id": "UCMPCt8CqtGD"
      },
      "execution_count": 47,
      "outputs": []
    },
    {
      "cell_type": "code",
      "source": [
        "modelo += pulp.lpSum(custosProducao[t] * qtdProduzida[t] for t in periodos) + pulp.lpSum(2.80 * qtdHorasExtras[t] for t in [1, 2]) + pulp.lpSum(0.2 * qtdEmEstoque[t] for t in periodos)"
      ],
      "metadata": {
        "id": "wt_JBI7Nqzpi"
      },
      "execution_count": 48,
      "outputs": []
    },
    {
      "cell_type": "markdown",
      "source": [
        "## Restrições"
      ],
      "metadata": {
        "id": "rR0Ro1FFm88J"
      }
    },
    {
      "cell_type": "code",
      "source": [
        "# Restrições\n",
        "for t in periodos:\n",
        "    modelo += qtdProduzida[t] <= capacidadeProducao\n",
        "\n",
        "    if t in [1, 2]:\n",
        "        modelo += qtdHorasExtras[t] <= capacidadeProducaoHorasExtras\n",
        "\n",
        "    if t == 1:\n",
        "        modelo += qtdProduzida[t] + qtdHorasExtras[t] - qtdEmEstoque[t] == demanda[t]\n",
        "    else:\n",
        "        if t == 2:\n",
        "            modelo += qtdProduzida[t] + qtdHorasExtras[t] + qtdEmEstoque[t-1] - qtdEmEstoque[t] == demanda[t]\n",
        "        else:\n",
        "            modelo += qtdProduzida[t] + qtdEmEstoque[t-1] - qtdEmEstoque[t] == demanda[t]\n",
        "\n",
        "    modelo += qtdEmEstoque[t] >= 0\n",
        "    modelo += qtdProduzida[t] >= 0\n",
        "    if t in [1, 2]:\n",
        "        modelo += qtdHorasExtras[t] >= 0"
      ],
      "metadata": {
        "id": "PQwt1BJem_LS"
      },
      "execution_count": 49,
      "outputs": []
    },
    {
      "cell_type": "code",
      "source": [
        "status = modelo.solve()"
      ],
      "metadata": {
        "id": "h2Pcb7O2pX8p"
      },
      "execution_count": 50,
      "outputs": []
    },
    {
      "cell_type": "code",
      "source": [
        "print(f\"Status: {pulp.LpStatus[status]}\")\n",
        "for i in periodos:\n",
        "    print(f\"Semana {i}: \",end=' ')\n",
        "    print(f\" Camisetas produzidas: {qtdProduzida[i].value()}\", end='  ')\n",
        "    if i in [1, 2]:\n",
        "        print(f\"Quantidade de horas extras: {qtdHorasExtras[i].value()}\", end=' ')\n",
        "    print(f\"Estoque:  {qtdEmEstoque[i].value()}\")\n",
        "\n",
        "print(f\"Custo: {modelo.objective.value()}\")"
      ],
      "metadata": {
        "colab": {
          "base_uri": "https://localhost:8080/"
        },
        "id": "tAnAMAQ0qM3S",
        "outputId": "53f12c87-5e9d-48eb-c2c3-9b5581ebff0c"
      },
      "execution_count": 51,
      "outputs": [
        {
          "output_type": "stream",
          "name": "stdout",
          "text": [
            "Status: Optimal\n",
            "Semana 1:   Camisetas produzidas: 25000.0  Quantidade de horas extras: 0.0 Estoque:  20000.0\n",
            "Semana 2:   Camisetas produzidas: 25000.0  Quantidade de horas extras: 5000.0 Estoque:  40000.0\n",
            "Semana 3:   Camisetas produzidas: 25000.0  Estoque:  35000.0\n",
            "Semana 4:   Camisetas produzidas: 25000.0  Estoque:  0.0\n",
            "Custo: 258000.0\n"
          ]
        }
      ]
    }
  ]
}