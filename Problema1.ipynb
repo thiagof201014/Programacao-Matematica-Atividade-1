{
  "nbformat": 4,
  "nbformat_minor": 0,
  "metadata": {
    "colab": {
      "provenance": []
    },
    "kernelspec": {
      "name": "python3",
      "display_name": "Python 3"
    },
    "language_info": {
      "name": "python"
    }
  },
  "cells": [
    {
      "cell_type": "markdown",
      "source": [
        "#Programação Matemática - Atividade 1\n",
        "\n",
        "Aviões:  BOEING 717, BOEING 737-500, MD-11\n",
        "\n",
        "## Parâmetros:\n",
        "- Custo de compra de cada avião: 330 milhões, 300 milhões, 420 milhões\n",
        "\n",
        "- Pilotos aptos: 30, 20, 10\n",
        "\n",
        "## Variáveis\n",
        "- X: quantidade comprada do BOEING 717\n",
        "- Y: quantidade comprada do BOEING 737-500\n",
        "- Z: quantidade comprada do MD-11\n",
        "- A: quantidade comprada de BOEING 717, alocada para pilotos MD-11\n",
        "- B: quantidade comprada de BOEING 737-500, alocada para pilotos MD-11\n",
        "\n",
        "## Restrições\n",
        "- A oficina suporta 40 aviões Boeing 717. Um Boeing 737-500 equivale, em esforço de manutenção, a 3/4 e um MD-11 a 5/3 do Boeing 717.\n",
        "\\begin{equation}\n",
        "X + 4/3Y + 5/3Z \\le 40\n",
        "\\end{equation}\n",
        "- Verba disponível: 220 milhões\n",
        "- Os pilotos dos aviões MD-11 podem ser alocados aos outros aviões. O inverso não se aplica.\n",
        "\\begin{equation}\n",
        " X \\le 20\n",
        " \\end{equation}\n",
        " \\begin{equation}\n",
        " X - A \\le 15\n",
        " \\end{equation}\n",
        " \\begin{equation}\n",
        " Y \\le 15\n",
        " \\end{equation}\n",
        " \\begin{equation}\n",
        " Y - B \\le 10\n",
        " \\end{equation}\n",
        " \\begin{equation}\n",
        " 0 \\le Z - A - B \\le 5\n",
        " \\end{equation}\n",
        "\n",
        "- O custo da compra dos aviões não pode ultrapassar 220 milhões\n",
        "\\begin{equation}\n",
        "5.1X + 3.6Y + 6.8Z \\le 220\n",
        "\\end{equation}\n",
        "\n",
        "##Função Objetivo\n",
        "\\begin{equation}\n",
        "\\max f(X,Y,Z,A,B) = 330X + 300Y + 420Z + 0A + 0B\n",
        "\\end{equation}"
      ],
      "metadata": {
        "id": "gs6BPhpF3Dcy"
      }
    },
    {
      "cell_type": "code",
      "source": [
        "!pip install pulp\n",
        "import pulp"
      ],
      "metadata": {
        "colab": {
          "base_uri": "https://localhost:8080/"
        },
        "id": "aESpYWg-KCtB",
        "outputId": "f8a4a567-7406-49af-b37d-0b1c1c0fefb2"
      },
      "execution_count": 35,
      "outputs": [
        {
          "output_type": "stream",
          "name": "stdout",
          "text": [
            "Requirement already satisfied: pulp in /usr/local/lib/python3.10/dist-packages (2.9.0)\n"
          ]
        }
      ]
    },
    {
      "cell_type": "code",
      "source": [
        "modelo = pulp.LpProblem('avioes', pulp.LpMaximize)"
      ],
      "metadata": {
        "id": "V-87xEV9KKK4"
      },
      "execution_count": 36,
      "outputs": []
    },
    {
      "cell_type": "markdown",
      "source": [
        "### Variáveis da decisão"
      ],
      "metadata": {
        "id": "0acBgCuLKRi8"
      }
    },
    {
      "cell_type": "code",
      "source": [
        "x = pulp.LpVariable('x', lowBound=0, cat='Integer')\n",
        "y = pulp.LpVariable('y', lowBound=0, cat='Integer')\n",
        "z = pulp.LpVariable('z', lowBound=0, cat='Integer')\n",
        "a = pulp.LpVariable('a', lowBound=0, cat='Integer')\n",
        "b = pulp.LpVariable('b', lowBound=0, cat='Integer')"
      ],
      "metadata": {
        "id": "mJqe1BUQKPRh"
      },
      "execution_count": 37,
      "outputs": []
    },
    {
      "cell_type": "markdown",
      "source": [
        "### Função Objetivo"
      ],
      "metadata": {
        "id": "kkEv2MqZK3aS"
      }
    },
    {
      "cell_type": "code",
      "source": [
        "modelo += 330*x + 300*y + 420*z + 0*a + 0*b"
      ],
      "metadata": {
        "id": "5tUw9vmGK6jR"
      },
      "execution_count": 38,
      "outputs": []
    },
    {
      "cell_type": "markdown",
      "source": [
        "### Restrições"
      ],
      "metadata": {
        "id": "ISeNeQMPK97J"
      }
    },
    {
      "cell_type": "code",
      "source": [
        "modelo += x + (4/3)*y + (5/3)*z <= 40\n",
        "modelo += x + a <= 20\n",
        "modelo += x <= 15\n",
        "modelo += y + b <= 15\n",
        "modelo += y <= 10\n",
        "modelo += z <= 5\n",
        "modelo += z - a - b <= 5\n",
        "modelo += 5.1*x + 3.6*y + 6.8*z <= 220"
      ],
      "metadata": {
        "id": "AUpVK0f-LW4y"
      },
      "execution_count": 39,
      "outputs": []
    },
    {
      "cell_type": "code",
      "source": [
        "status = modelo.solve()"
      ],
      "metadata": {
        "id": "aWIToKZhLhZA"
      },
      "execution_count": 40,
      "outputs": []
    },
    {
      "cell_type": "code",
      "source": [
        "print(f'Status: {modelo.status}, {pulp.LpStatus[modelo.status]}')\n",
        "print(f'Objetivo: {pulp.value(modelo.objective)}')\n",
        "for var in modelo.variables():\n",
        "  print(f'{var.name}: {var.value()}')\n",
        "\n",
        "print(f'custo total: {5.1*x.value() + 5.1*a.value() + 3.6*y.value() + 3.6*b.value() + 6.8*z.value()}')"
      ],
      "metadata": {
        "colab": {
          "base_uri": "https://localhost:8080/"
        },
        "id": "btsQczqXLlJG",
        "outputId": "064f4c1e-bf75-419a-dbe1-ee33fa27a8f0"
      },
      "execution_count": 41,
      "outputs": [
        {
          "output_type": "stream",
          "name": "stdout",
          "text": [
            "Status: 1, Optimal\n",
            "Objetivo: 10050.0\n",
            "a: 0.0\n",
            "b: 0.0\n",
            "x: 15.0\n",
            "y: 10.0\n",
            "z: 5.0\n",
            "custo total: 146.5\n"
          ]
        }
      ]
    }
  ]
}