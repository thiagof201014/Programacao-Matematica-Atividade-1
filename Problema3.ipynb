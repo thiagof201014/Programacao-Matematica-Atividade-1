{
  "nbformat": 4,
  "nbformat_minor": 0,
  "metadata": {
    "colab": {
      "provenance": []
    },
    "kernelspec": {
      "name": "python3",
      "display_name": "Python 3"
    },
    "language_info": {
      "name": "python"
    }
  },
  "cells": [
    {
      "cell_type": "markdown",
      "source": [
        "#Atividade 3 - Programação Matemática\n",
        "##Alunos\n",
        " - Daniel Messias Santos - 202110168\n",
        " - Thiago Pereira Freire - 202110167"
      ],
      "metadata": {
        "id": "fRSvlTnNtIW7"
      }
    },
    {
      "cell_type": "markdown",
      "source": [
        "#Enunciado\n",
        "\n",
        "A cidade de União Paulista enfrenta uma séria carência orçamentária. Em busca de uma solução de longo prazo, a câmara de vereadores da cidade aprova uma melhoria da base da cobrança de impostos que prevê a condenação de uma área habitacional no centro da cidade e sua substituição por um conjunto habitacional moderno.\n",
        "\n",
        "O projeto envolve duas fases:\n",
        "\n",
        "1. Demolição das casas que estão aquém do padrão para liberar terreno para o novo projeto.\n",
        "2. Construção do novo conjunto urbano.\n",
        "\n",
        "Um total de 300 casas aquém do padrão podem ser demolidas. Cada casa ocupa um lote de 0,25 acres. O custo de demolição de uma casa condenada é de $2.000. Os tamanhos dos lotes para domicílios simples, duplos, triplos e quádruplos são de 0,18; 0,28; 0,4 e 0,5 acres, respectivamente. Ruas, espaços abertos e instalações públicas ocupam 15% da área disponível.\n",
        "\n",
        "No novo conjunto habitacional, as unidades triplas e quádruplas devem representar, no mínimo, 25% do total. Unidades simples devem representar, no mínimo, 20% de todas as unidades, e unidades duplas, no mínimo, 10%. O imposto cobrado por unidade para unidades simples, duplas, triplas e quádruplas é de \\$1.000, \\$1.900, \\$2.700 e \\$3.400, respectivamente.\n",
        "\n",
        "O custo de construção por unidade domiciliar simples, dupla, tripla e quádrupla é de \\$50.000, \\$70.000, \\$130.000 e \\$160.000, respectivamente. O financiamento acordado com um banco local será de, no máximo, \\$15 milhões.\n",
        "\n",
        "Quantas unidades de cada tipo devem ser construídas para maximizar a arrecadação de impostos?"
      ],
      "metadata": {
        "id": "s_EivGnO3sFR"
      }
    },
    {
      "cell_type": "markdown",
      "source": [
        "## Parâmetros\n",
        "| Tipo de casa | Tamanho     | Imposto | Custo de produção|\n",
        "|--------------|-------------|---------|------------------|\n",
        "| simples      | 0.18 acres  | 1000    |50.000            |\n",
        "| duplas       | 0.28 acres  | 1900    |70.000            |\n",
        "| triplas      | 0.40 acres  | 2700    |130.000           |\n",
        "| quádruplas   | 0.50 acres  | 3400    |160.000           |\n",
        "\n",
        "- Custo de demolição por casa: 2.000\n",
        "- Tamanho de cada casa condenada: 0.25 acres\n",
        "\n",
        "## Variáveis\n",
        "- Quantidade de casas simples X\n",
        "- Quantidade de casas duplas Y\n",
        "- Quantidade de casas triplas Z\n",
        "- Quantidade de casas quádruplas W\n",
        "- Quantidade de casas demolidas V\n",
        "\n",
        "## Restrições\n",
        "- Casas simples devem ocupar pelo menos 20% da quantidade de unidades\n",
        "\\begin{equation}\n",
        "    (w + x + y + z)0,2 \\le X\n",
        "    \\end{equation}\n",
        "- Casas duplas devem ocupar pelo menos 10% da quantidade de unidades\n",
        "\\begin{equation}\n",
        "    (w + x + y + z)0,1 \\le Y\n",
        "\\end{equation}\n",
        "- Casas triplas devem ocupar pelo menos 25% da quantidade de unidades\n",
        "\\begin{equation}\n",
        "    (w + x + y + z)0,25 \\le Z\n",
        "\\end{equation}\n",
        "- Casas quádruplas devem ocupar pelo menos 25% da quantidade de unidades\n",
        "\\begin{equation}\n",
        "    (w + x + y + z)0,25 \\le W\n",
        "\\end{equation}\n",
        "- O custo máximo é de 15.000.000\n",
        "\\begin{equation}\n",
        "    50.000X + 70.000Y + 130.000Z + 160.000W + 2000V \\le 15.000.000\n",
        "\\end{equation}\n",
        "- Ruas ocupam 15% da área total\n",
        "\\begin{equation}\n",
        "    0.18X + 0.28Y + 0.40Z + 0.50W \\le 0.25V * 0.85\n",
        "\\end{equation}\n",
        "- Existem 300 casas condenadas no local\n",
        "\\begin{equation}\n",
        "    V \\le 300\n",
        "\\end{equation}\n",
        "\n",
        "## Função objetivo\n",
        "\\begin{equation}\n",
        "    max f(X,Y,Z,W) = 1000X + 1900Y + 2700Z + 3400W\n",
        "\\end{equation}"
      ],
      "metadata": {
        "id": "PPtsVyuh3xWk"
      }
    },
    {
      "cell_type": "markdown",
      "source": [
        "### Instalação da biblioteca"
      ],
      "metadata": {
        "id": "NqcYbiqevHsF"
      }
    },
    {
      "cell_type": "code",
      "source": [
        "!pip install pulp\n",
        "import pulp"
      ],
      "metadata": {
        "id": "KuWs3e04BIYu",
        "colab": {
          "base_uri": "https://localhost:8080/"
        },
        "outputId": "337ff48e-1565-4e89-c3aa-2ef862edec29"
      },
      "execution_count": 21,
      "outputs": [
        {
          "output_type": "stream",
          "name": "stdout",
          "text": [
            "Requirement already satisfied: pulp in /usr/local/lib/python3.10/dist-packages (2.9.0)\n"
          ]
        }
      ]
    },
    {
      "cell_type": "markdown",
      "source": [
        "### Parâmetros"
      ],
      "metadata": {
        "id": "beZdq4vjvKNV"
      }
    },
    {
      "cell_type": "code",
      "source": [
        "casas = [0, 1, 2, 3]\n",
        "tamanhos = (0.18, 0.28, 0.40, 0.50)\n",
        "impostos = (1000, 1900, 2700, 3400)\n",
        "custos = (50000, 70000, 130000, 160000)\n",
        "custoDemolicao = 2000\n",
        "tamanhoCondenada = 0.25\n",
        "quantidadeMinima = (0.2, 0.1, 0.25, 0.25)\n",
        "custoMaximo = 15000000"
      ],
      "metadata": {
        "id": "FnIOwCOxBN6b"
      },
      "execution_count": 22,
      "outputs": []
    },
    {
      "cell_type": "markdown",
      "source": [
        "### Criação do modelo"
      ],
      "metadata": {
        "id": "xe6pBSXvvL24"
      }
    },
    {
      "cell_type": "code",
      "source": [
        "modelo = pulp.LpProblem(\"Casa\", pulp.LpMaximize)"
      ],
      "metadata": {
        "id": "arUYvdJABzNZ"
      },
      "execution_count": 23,
      "outputs": []
    },
    {
      "cell_type": "markdown",
      "source": [
        "### Variáveis de decisão"
      ],
      "metadata": {
        "id": "rnRsyRKAvNa9"
      }
    },
    {
      "cell_type": "code",
      "source": [
        "quantidadeCasas = pulp.LpVariable.dicts(\"Quantidade\", casas, lowBound=0, cat='Integer')\n",
        "quantidadeCondenadas = pulp.LpVariable(\"QuantidadeCondenada\", lowBound=0, cat='Integer')"
      ],
      "metadata": {
        "id": "rUREPvcDCIlk"
      },
      "execution_count": 24,
      "outputs": []
    },
    {
      "cell_type": "markdown",
      "source": [
        "### Função objetivo"
      ],
      "metadata": {
        "id": "gGyasDOWvUB4"
      }
    },
    {
      "cell_type": "code",
      "source": [
        "modelo += pulp.lpSum(quantidadeCasas[i] * impostos[i] for i in casas)"
      ],
      "metadata": {
        "id": "S1S7x5SkDC1T"
      },
      "execution_count": 25,
      "outputs": []
    },
    {
      "cell_type": "markdown",
      "source": [
        "### Restrições"
      ],
      "metadata": {
        "id": "IP17rq1IvWQ_"
      }
    },
    {
      "cell_type": "code",
      "source": [
        "for i in casas:\n",
        "  modelo += pulp.lpSum(quantidadeCasas[j] for j in casas) * quantidadeMinima[i] <= quantidadeCasas[i]\n",
        "  modelo += quantidadeCasas[i] >= 0\n",
        "\n",
        "modelo += pulp.lpSum(quantidadeCasas[i] * custos[i] for i in casas) + custoDemolicao * quantidadeCondenadas <= custoMaximo\n",
        "modelo += quantidadeCondenadas >= 0\n",
        "modelo += quantidadeCondenadas <= 300\n",
        "modelo += pulp.lpSum(quantidadeCasas[i] * tamanhos[i] for i in casas) <= quantidadeCondenadas * tamanhoCondenada * 0.85"
      ],
      "metadata": {
        "id": "8B9ktuGdDOC6"
      },
      "execution_count": 26,
      "outputs": []
    },
    {
      "cell_type": "markdown",
      "source": [
        "### Solver"
      ],
      "metadata": {
        "id": "hCDcmzDTvX-s"
      }
    },
    {
      "cell_type": "code",
      "source": [
        "status = modelo.solve()"
      ],
      "metadata": {
        "id": "45Kc-kg7JJaO"
      },
      "execution_count": 27,
      "outputs": []
    },
    {
      "cell_type": "markdown",
      "source": [
        "### Impressão dos resultados"
      ],
      "metadata": {
        "id": "V4npK4bmvZMc"
      }
    },
    {
      "cell_type": "code",
      "source": [
        "print(f\"Status: {modelo.status}, {pulp.LpStatus[modelo.status]}\")\n",
        "total = 0\n",
        "tiposResidencias = [\"simples\", \"duplas\", \"triplas\", \"quádruplas\"]\n",
        "for i in casas:\n",
        "  print(f\"{tiposResidencias[i]}: quantidade: {quantidadeCasas[i].varValue}\")\n",
        "  total += quantidadeCasas[i].varValue * custos[i]\n",
        "print(f\"Quantidade de casas condenadas: {quantidadeCondenadas.varValue}\")\n",
        "print(f\"Impostos arrecadados: {pulp.value(modelo.objective)}\")\n",
        "total += custoDemolicao * quantidadeCondenadas.varValue\n",
        "print(f\"Custo total: {total}\")"
      ],
      "metadata": {
        "id": "O-ziQxBJJQI8",
        "colab": {
          "base_uri": "https://localhost:8080/"
        },
        "outputId": "05fc3d48-2852-4518-dc6f-6720341bd726"
      },
      "execution_count": 28,
      "outputs": [
        {
          "output_type": "stream",
          "name": "stdout",
          "text": [
            "Status: 1, Optimal\n",
            "simples: quantidade: 28.0\n",
            "duplas: quantidade: 42.0\n",
            "triplas: quantidade: 35.0\n",
            "quádruplas: quantidade: 35.0\n",
            "Quantidade de casas condenadas: 228.0\n",
            "Impostos arrecadados: 321300.0\n",
            "Custo total: 14946000.0\n"
          ]
        }
      ]
    }
  ]
}